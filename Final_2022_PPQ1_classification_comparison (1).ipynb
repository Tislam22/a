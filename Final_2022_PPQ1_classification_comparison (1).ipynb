{
 "cells": [
  {
   "cell_type": "markdown",
   "id": "c9c6a6cf-be62-4a5a-83e9-9d20a80bb9e0",
   "metadata": {
    "tags": []
   },
   "source": [
    "## Final Programming Part Problem 1: Comparison of Two Models\n",
    "\n",
    "This problem is possibly the most straight forward. You are going to run learn (train) and the evaluate (test) two classifier models we talked about in class: k-nearest neighbors and logistic regression. You will compute the accuracy for each model and explain which one works better. \n",
    "\n",
    "### 1.1 Import the necessary files below\n",
    "\n",
    "Import the necessary libraries: numpy, pandas, KNeighborsClassifier, \n",
    "classification_report, LogisticRegression, and train_test_split from sklearn"
   ]
  },
  {
   "cell_type": "code",
   "execution_count": 51,
   "id": "24c6064a-0b29-4d83-92b9-754711720b5a",
   "metadata": {},
   "outputs": [],
   "source": [
    "# Import the necessary libraries In this cell\n",
    "# You will need to import the python numerical library and make it accessible as \"np\"\n",
    "# You will need to import the python library that gives us DataFrames \n",
    "#     and make it accessible as \"pd\"\n",
    "# We are going to need pyplot from the standard graphics library as \"plt\"\n",
    "# We are going to need \"seaborn\" as well\n",
    "# Any other libraries you should import here\n",
    "\n",
    "import numpy as np\n",
    "import pandas as pd\n",
    "from sklearn.neighbors import KNeighborsClassifier\n",
    "from sklearn.metrics import classification_report\n",
    "from sklearn.linear_model import LogisticRegression\n",
    "from sklearn.model_selection import train_test_split\n"
   ]
  },
  {
   "cell_type": "markdown",
   "id": "80833b3e-1b44-413f-b73e-e555976a46b3",
   "metadata": {},
   "source": [
    "### 1.2 Write a class which represents the simulation model\n",
    "\n",
    "Read in a csv file from a URL and store it in a pandas DataFrame called \"df\" from the url:\n",
    "\n",
    "https://bit.ly/forestclassificationdata\n"
   ]
  },
  {
   "cell_type": "code",
   "execution_count": 3,
   "id": "aa8a94a7-4c0a-4243-8235-52b1909c6207",
   "metadata": {},
   "outputs": [],
   "source": [
    "df = pd.read_csv(\"https://bit.ly/forestclassificationdata\")"
   ]
  },
  {
   "cell_type": "markdown",
   "id": "d52973a1-2c83-430c-8050-1450e89451e4",
   "metadata": {},
   "source": [
    "### 1.3 View the first 5 rows of the \"df\"\n",
    "\n",
    "Use the standard method on the data frame to view the first 5 rows. Inspect to make sure you uderstand what is in the data frame."
   ]
  },
  {
   "cell_type": "code",
   "execution_count": 4,
   "id": "095d67da-e445-44b3-a42b-b7c730861ee9",
   "metadata": {},
   "outputs": [
    {
     "data": {
      "text/html": [
       "<div>\n",
       "<style scoped>\n",
       "    .dataframe tbody tr th:only-of-type {\n",
       "        vertical-align: middle;\n",
       "    }\n",
       "\n",
       "    .dataframe tbody tr th {\n",
       "        vertical-align: top;\n",
       "    }\n",
       "\n",
       "    .dataframe thead th {\n",
       "        text-align: right;\n",
       "    }\n",
       "</style>\n",
       "<table border=\"1\" class=\"dataframe\">\n",
       "  <thead>\n",
       "    <tr style=\"text-align: right;\">\n",
       "      <th></th>\n",
       "      <th>class</th>\n",
       "      <th>b1</th>\n",
       "      <th>b2</th>\n",
       "      <th>b3</th>\n",
       "      <th>b4</th>\n",
       "      <th>b5</th>\n",
       "      <th>b6</th>\n",
       "      <th>b7</th>\n",
       "      <th>b8</th>\n",
       "      <th>b9</th>\n",
       "      <th>...</th>\n",
       "      <th>pred_minus_obs_H_b9</th>\n",
       "      <th>pred_minus_obs_S_b1</th>\n",
       "      <th>pred_minus_obs_S_b2</th>\n",
       "      <th>pred_minus_obs_S_b3</th>\n",
       "      <th>pred_minus_obs_S_b4</th>\n",
       "      <th>pred_minus_obs_S_b5</th>\n",
       "      <th>pred_minus_obs_S_b6</th>\n",
       "      <th>pred_minus_obs_S_b7</th>\n",
       "      <th>pred_minus_obs_S_b8</th>\n",
       "      <th>pred_minus_obs_S_b9</th>\n",
       "    </tr>\n",
       "  </thead>\n",
       "  <tbody>\n",
       "    <tr>\n",
       "      <th>0</th>\n",
       "      <td>d</td>\n",
       "      <td>67</td>\n",
       "      <td>51</td>\n",
       "      <td>68</td>\n",
       "      <td>115</td>\n",
       "      <td>69</td>\n",
       "      <td>111</td>\n",
       "      <td>136</td>\n",
       "      <td>31</td>\n",
       "      <td>67</td>\n",
       "      <td>...</td>\n",
       "      <td>-9.17</td>\n",
       "      <td>-18.27</td>\n",
       "      <td>-1.80</td>\n",
       "      <td>-6.32</td>\n",
       "      <td>-20.88</td>\n",
       "      <td>-1.63</td>\n",
       "      <td>-6.13</td>\n",
       "      <td>-22.56</td>\n",
       "      <td>-5.53</td>\n",
       "      <td>-8.11</td>\n",
       "    </tr>\n",
       "    <tr>\n",
       "      <th>1</th>\n",
       "      <td>s</td>\n",
       "      <td>67</td>\n",
       "      <td>28</td>\n",
       "      <td>51</td>\n",
       "      <td>99</td>\n",
       "      <td>50</td>\n",
       "      <td>97</td>\n",
       "      <td>82</td>\n",
       "      <td>26</td>\n",
       "      <td>59</td>\n",
       "      <td>...</td>\n",
       "      <td>-2.25</td>\n",
       "      <td>-20.13</td>\n",
       "      <td>-2.11</td>\n",
       "      <td>-6.35</td>\n",
       "      <td>-21.94</td>\n",
       "      <td>-1.22</td>\n",
       "      <td>-6.13</td>\n",
       "      <td>-22.20</td>\n",
       "      <td>-3.41</td>\n",
       "      <td>-6.57</td>\n",
       "    </tr>\n",
       "    <tr>\n",
       "      <th>2</th>\n",
       "      <td>s</td>\n",
       "      <td>63</td>\n",
       "      <td>26</td>\n",
       "      <td>50</td>\n",
       "      <td>95</td>\n",
       "      <td>49</td>\n",
       "      <td>91</td>\n",
       "      <td>81</td>\n",
       "      <td>26</td>\n",
       "      <td>57</td>\n",
       "      <td>...</td>\n",
       "      <td>-0.44</td>\n",
       "      <td>-17.64</td>\n",
       "      <td>-1.81</td>\n",
       "      <td>-4.70</td>\n",
       "      <td>-19.39</td>\n",
       "      <td>-0.65</td>\n",
       "      <td>-5.01</td>\n",
       "      <td>-20.89</td>\n",
       "      <td>-3.96</td>\n",
       "      <td>-6.85</td>\n",
       "    </tr>\n",
       "    <tr>\n",
       "      <th>3</th>\n",
       "      <td>d</td>\n",
       "      <td>63</td>\n",
       "      <td>42</td>\n",
       "      <td>63</td>\n",
       "      <td>97</td>\n",
       "      <td>66</td>\n",
       "      <td>108</td>\n",
       "      <td>111</td>\n",
       "      <td>28</td>\n",
       "      <td>59</td>\n",
       "      <td>...</td>\n",
       "      <td>-2.34</td>\n",
       "      <td>-20.20</td>\n",
       "      <td>-1.89</td>\n",
       "      <td>-5.47</td>\n",
       "      <td>-21.65</td>\n",
       "      <td>-0.99</td>\n",
       "      <td>-5.71</td>\n",
       "      <td>-22.19</td>\n",
       "      <td>-3.41</td>\n",
       "      <td>-6.52</td>\n",
       "    </tr>\n",
       "    <tr>\n",
       "      <th>4</th>\n",
       "      <td>s</td>\n",
       "      <td>46</td>\n",
       "      <td>27</td>\n",
       "      <td>50</td>\n",
       "      <td>83</td>\n",
       "      <td>51</td>\n",
       "      <td>90</td>\n",
       "      <td>76</td>\n",
       "      <td>26</td>\n",
       "      <td>56</td>\n",
       "      <td>...</td>\n",
       "      <td>1.25</td>\n",
       "      <td>-18.62</td>\n",
       "      <td>-2.17</td>\n",
       "      <td>-7.11</td>\n",
       "      <td>-21.12</td>\n",
       "      <td>-1.56</td>\n",
       "      <td>-6.35</td>\n",
       "      <td>-22.19</td>\n",
       "      <td>-4.45</td>\n",
       "      <td>-7.32</td>\n",
       "    </tr>\n",
       "  </tbody>\n",
       "</table>\n",
       "<p>5 rows × 28 columns</p>\n",
       "</div>"
      ],
      "text/plain": [
       "  class  b1  b2  b3   b4  b5   b6   b7  b8  b9  ...  pred_minus_obs_H_b9  \\\n",
       "0    d   67  51  68  115  69  111  136  31  67  ...                -9.17   \n",
       "1    s   67  28  51   99  50   97   82  26  59  ...                -2.25   \n",
       "2    s   63  26  50   95  49   91   81  26  57  ...                -0.44   \n",
       "3    d   63  42  63   97  66  108  111  28  59  ...                -2.34   \n",
       "4    s   46  27  50   83  51   90   76  26  56  ...                 1.25   \n",
       "\n",
       "   pred_minus_obs_S_b1  pred_minus_obs_S_b2  pred_minus_obs_S_b3  \\\n",
       "0               -18.27                -1.80                -6.32   \n",
       "1               -20.13                -2.11                -6.35   \n",
       "2               -17.64                -1.81                -4.70   \n",
       "3               -20.20                -1.89                -5.47   \n",
       "4               -18.62                -2.17                -7.11   \n",
       "\n",
       "   pred_minus_obs_S_b4  pred_minus_obs_S_b5  pred_minus_obs_S_b6  \\\n",
       "0               -20.88                -1.63                -6.13   \n",
       "1               -21.94                -1.22                -6.13   \n",
       "2               -19.39                -0.65                -5.01   \n",
       "3               -21.65                -0.99                -5.71   \n",
       "4               -21.12                -1.56                -6.35   \n",
       "\n",
       "   pred_minus_obs_S_b7  pred_minus_obs_S_b8  pred_minus_obs_S_b9  \n",
       "0               -22.56                -5.53                -8.11  \n",
       "1               -22.20                -3.41                -6.57  \n",
       "2               -20.89                -3.96                -6.85  \n",
       "3               -22.19                -3.41                -6.52  \n",
       "4               -22.19                -4.45                -7.32  \n",
       "\n",
       "[5 rows x 28 columns]"
      ]
     },
     "execution_count": 4,
     "metadata": {},
     "output_type": "execute_result"
    }
   ],
   "source": [
    "df.head()"
   ]
  },
  {
   "cell_type": "markdown",
   "id": "831490bb-d37f-4eac-a307-5fbdac030775",
   "metadata": {},
   "source": [
    "### 1.4 Extract numpy arrays \"y\" and \"X\" from the data frame\n",
    "\n",
    "* Extract the \"class\" column and set equal to a variable called \"y\" using the attribute that gets it as an numpy array. \n",
    "* The resulting shape of \"y\" should be \"(523,)\"\n",
    "* Extract all the columns other than the \"class\" column and set equal to a variable called \"X\" using the attribute that gets it as an numpy array.\n",
    "* The resulting shape of \"X\" should be \"(523,27)\""
   ]
  },
  {
   "cell_type": "code",
   "execution_count": 27,
   "id": "266f51aa-1449-4008-9ef5-b73c642d5c0a",
   "metadata": {},
   "outputs": [
    {
     "name": "stdout",
     "output_type": "stream",
     "text": [
      "     b1  b2  b3   b4  b5   b6   b7  b8  b9  pred_minus_obs_H_b1  ...  \\\n",
      "0    67  51  68  115  69  111  136  31  67                47.70  ...   \n",
      "1    67  28  51   99  50   97   82  26  59                47.93  ...   \n",
      "2    63  26  50   95  49   91   81  26  57                53.09  ...   \n",
      "3    63  42  63   97  66  108  111  28  59                52.41  ...   \n",
      "4    46  27  50   83  51   90   76  26  56                68.54  ...   \n",
      "..   ..  ..  ..  ...  ..  ...  ...  ..  ..                  ...  ...   \n",
      "518  55  61  90   75  55   91   84  24  54                57.14  ...   \n",
      "519  66  69  93   90  63  100   99  25  57                45.97  ...   \n",
      "520  79  30  55  115  51   96  109  25  59                35.40  ...   \n",
      "521  69  27  53  106  47   90   87  24  55                35.81  ...   \n",
      "522  80  29  55  116  50   95  102  25  59                34.08  ...   \n",
      "\n",
      "     pred_minus_obs_H_b9  pred_minus_obs_S_b1  pred_minus_obs_S_b2  \\\n",
      "0                  -9.17               -18.27                -1.80   \n",
      "1                  -2.25               -20.13                -2.11   \n",
      "2                  -0.44               -17.64                -1.81   \n",
      "3                  -2.34               -20.20                -1.89   \n",
      "4                   1.25               -18.62                -2.17   \n",
      "..                   ...                  ...                  ...   \n",
      "518                 1.28               -20.84                -1.47   \n",
      "519                -1.50               -19.64                -1.45   \n",
      "520                -3.66               -22.40                -3.91   \n",
      "521                -0.88               -13.32                 0.16   \n",
      "522                -4.19               -21.98                -2.12   \n",
      "\n",
      "     pred_minus_obs_S_b3  pred_minus_obs_S_b4  pred_minus_obs_S_b5  \\\n",
      "0                  -6.32               -20.88                -1.63   \n",
      "1                  -6.35               -21.94                -1.22   \n",
      "2                  -4.70               -19.39                -0.65   \n",
      "3                  -5.47               -21.65                -0.99   \n",
      "4                  -7.11               -21.12                -1.56   \n",
      "..                   ...                  ...                  ...   \n",
      "518                -5.72               -18.73                -1.18   \n",
      "519                -5.60               -17.03                -1.08   \n",
      "520                -6.61               -36.29                -2.13   \n",
      "521                -2.39                -7.12                 0.02   \n",
      "522                -6.03               -26.08                -1.67   \n",
      "\n",
      "     pred_minus_obs_S_b6  pred_minus_obs_S_b7  pred_minus_obs_S_b8  \\\n",
      "0                  -6.13               -22.56                -5.53   \n",
      "1                  -6.13               -22.20                -3.41   \n",
      "2                  -5.01               -20.89                -3.96   \n",
      "3                  -5.71               -22.19                -3.41   \n",
      "4                  -6.35               -22.19                -4.45   \n",
      "..                   ...                  ...                  ...   \n",
      "518                -5.22               -17.81                -1.28   \n",
      "519                -5.15               -16.77                -1.46   \n",
      "520                -5.77               -23.32                -2.09   \n",
      "521                -2.06               -10.04                -0.74   \n",
      "522                -5.82               -20.91                -0.90   \n",
      "\n",
      "     pred_minus_obs_S_b9  \n",
      "0                  -8.11  \n",
      "1                  -6.57  \n",
      "2                  -6.85  \n",
      "3                  -6.52  \n",
      "4                  -7.32  \n",
      "..                   ...  \n",
      "518                -3.87  \n",
      "519                -4.03  \n",
      "520                -4.13  \n",
      "521                -2.88  \n",
      "522                -3.70  \n",
      "\n",
      "[523 rows x 27 columns]\n",
      "0      d \n",
      "1      s \n",
      "2      s \n",
      "3      d \n",
      "4      s \n",
      "       ..\n",
      "518    d \n",
      "519    d \n",
      "520    h \n",
      "521    h \n",
      "522    h \n",
      "Name: class, Length: 523, dtype: object\n",
      "(523, 27)\n",
      "(523,)\n"
     ]
    }
   ],
   "source": [
    "X = df.iloc[: , 1:]\n",
    "print(x)\n",
    "y = df[\"class\"]\n",
    "print(y)\n",
    "\n",
    "print(np.array(X).shape)\n",
    "print(np.array(y).shape)"
   ]
  },
  {
   "cell_type": "markdown",
   "id": "c0e7492e-61c8-479a-bc8b-f6482cfb68d1",
   "metadata": {},
   "source": [
    "### 1.5 Use the train_test_split on X and y\n",
    "\n",
    "You should produce an \"X_train\", \"X_test\", \"y_train\", \"y_test\"  from X and y and use a test size of 0.33 and a random state of 42. "
   ]
  },
  {
   "cell_type": "code",
   "execution_count": 28,
   "id": "61ae3b29-90e5-4ba3-a5ad-a8a0b3e8e683",
   "metadata": {},
   "outputs": [],
   "source": [
    "X_train, X_test, y_train, y_test = train_test_split(X,y,test_size=0.33,random_state=42)"
   ]
  },
  {
   "cell_type": "markdown",
   "id": "57e48a32-bd1d-4942-923d-be699bf11377",
   "metadata": {},
   "source": [
    "### 1.6 Fitting and creating a KNN model (KNeighborsClassifier)\n",
    "\n",
    "Use the KNeighborsClassifier model. Then fit the model with the X_train and y_train to obtain a fitted model.\n",
    "\n"
   ]
  },
  {
   "cell_type": "code",
   "execution_count": 31,
   "id": "9360ef9f-e47b-4ad5-bd56-d5e951f5b1e4",
   "metadata": {},
   "outputs": [
    {
     "data": {
      "text/html": [
       "<style>#sk-container-id-2 {color: black;background-color: white;}#sk-container-id-2 pre{padding: 0;}#sk-container-id-2 div.sk-toggleable {background-color: white;}#sk-container-id-2 label.sk-toggleable__label {cursor: pointer;display: block;width: 100%;margin-bottom: 0;padding: 0.3em;box-sizing: border-box;text-align: center;}#sk-container-id-2 label.sk-toggleable__label-arrow:before {content: \"▸\";float: left;margin-right: 0.25em;color: #696969;}#sk-container-id-2 label.sk-toggleable__label-arrow:hover:before {color: black;}#sk-container-id-2 div.sk-estimator:hover label.sk-toggleable__label-arrow:before {color: black;}#sk-container-id-2 div.sk-toggleable__content {max-height: 0;max-width: 0;overflow: hidden;text-align: left;background-color: #f0f8ff;}#sk-container-id-2 div.sk-toggleable__content pre {margin: 0.2em;color: black;border-radius: 0.25em;background-color: #f0f8ff;}#sk-container-id-2 input.sk-toggleable__control:checked~div.sk-toggleable__content {max-height: 200px;max-width: 100%;overflow: auto;}#sk-container-id-2 input.sk-toggleable__control:checked~label.sk-toggleable__label-arrow:before {content: \"▾\";}#sk-container-id-2 div.sk-estimator input.sk-toggleable__control:checked~label.sk-toggleable__label {background-color: #d4ebff;}#sk-container-id-2 div.sk-label input.sk-toggleable__control:checked~label.sk-toggleable__label {background-color: #d4ebff;}#sk-container-id-2 input.sk-hidden--visually {border: 0;clip: rect(1px 1px 1px 1px);clip: rect(1px, 1px, 1px, 1px);height: 1px;margin: -1px;overflow: hidden;padding: 0;position: absolute;width: 1px;}#sk-container-id-2 div.sk-estimator {font-family: monospace;background-color: #f0f8ff;border: 1px dotted black;border-radius: 0.25em;box-sizing: border-box;margin-bottom: 0.5em;}#sk-container-id-2 div.sk-estimator:hover {background-color: #d4ebff;}#sk-container-id-2 div.sk-parallel-item::after {content: \"\";width: 100%;border-bottom: 1px solid gray;flex-grow: 1;}#sk-container-id-2 div.sk-label:hover label.sk-toggleable__label {background-color: #d4ebff;}#sk-container-id-2 div.sk-serial::before {content: \"\";position: absolute;border-left: 1px solid gray;box-sizing: border-box;top: 0;bottom: 0;left: 50%;z-index: 0;}#sk-container-id-2 div.sk-serial {display: flex;flex-direction: column;align-items: center;background-color: white;padding-right: 0.2em;padding-left: 0.2em;position: relative;}#sk-container-id-2 div.sk-item {position: relative;z-index: 1;}#sk-container-id-2 div.sk-parallel {display: flex;align-items: stretch;justify-content: center;background-color: white;position: relative;}#sk-container-id-2 div.sk-item::before, #sk-container-id-2 div.sk-parallel-item::before {content: \"\";position: absolute;border-left: 1px solid gray;box-sizing: border-box;top: 0;bottom: 0;left: 50%;z-index: -1;}#sk-container-id-2 div.sk-parallel-item {display: flex;flex-direction: column;z-index: 1;position: relative;background-color: white;}#sk-container-id-2 div.sk-parallel-item:first-child::after {align-self: flex-end;width: 50%;}#sk-container-id-2 div.sk-parallel-item:last-child::after {align-self: flex-start;width: 50%;}#sk-container-id-2 div.sk-parallel-item:only-child::after {width: 0;}#sk-container-id-2 div.sk-dashed-wrapped {border: 1px dashed gray;margin: 0 0.4em 0.5em 0.4em;box-sizing: border-box;padding-bottom: 0.4em;background-color: white;}#sk-container-id-2 div.sk-label label {font-family: monospace;font-weight: bold;display: inline-block;line-height: 1.2em;}#sk-container-id-2 div.sk-label-container {text-align: center;}#sk-container-id-2 div.sk-container {/* jupyter's `normalize.less` sets `[hidden] { display: none; }` but bootstrap.min.css set `[hidden] { display: none !important; }` so we also need the `!important` here to be able to override the default hidden behavior on the sphinx rendered scikit-learn.org. See: https://github.com/scikit-learn/scikit-learn/issues/21755 */display: inline-block !important;position: relative;}#sk-container-id-2 div.sk-text-repr-fallback {display: none;}</style><div id=\"sk-container-id-2\" class=\"sk-top-container\"><div class=\"sk-text-repr-fallback\"><pre>KNeighborsClassifier()</pre><b>In a Jupyter environment, please rerun this cell to show the HTML representation or trust the notebook. <br />On GitHub, the HTML representation is unable to render, please try loading this page with nbviewer.org.</b></div><div class=\"sk-container\" hidden><div class=\"sk-item\"><div class=\"sk-estimator sk-toggleable\"><input class=\"sk-toggleable__control sk-hidden--visually\" id=\"sk-estimator-id-2\" type=\"checkbox\" checked><label for=\"sk-estimator-id-2\" class=\"sk-toggleable__label sk-toggleable__label-arrow\">KNeighborsClassifier</label><div class=\"sk-toggleable__content\"><pre>KNeighborsClassifier()</pre></div></div></div></div></div>"
      ],
      "text/plain": [
       "KNeighborsClassifier()"
      ]
     },
     "execution_count": 31,
     "metadata": {},
     "output_type": "execute_result"
    }
   ],
   "source": [
    "knnmodel = KNeighborsClassifier()\n",
    "knnmodel.fit(X_train,y_train)"
   ]
  },
  {
   "cell_type": "markdown",
   "id": "c9287788-2b44-402f-a236-85d24d60bff1",
   "metadata": {},
   "source": [
    "### 1.7 Predict with your KNN model\n",
    "\n",
    "Use the KNN model to make predictions on the testing data and store the predictions in y_knn_predict."
   ]
  },
  {
   "cell_type": "code",
   "execution_count": 32,
   "id": "b8441ce2-73fe-4e4a-88f6-bd13f0a2e7c6",
   "metadata": {},
   "outputs": [
    {
     "data": {
      "text/plain": [
       "array(['h ', 'o ', 'h ', 'd ', 's ', 'd ', 'h ', 'o ', 'd ', 'd ', 's ',\n",
       "       'h ', 's ', 'd ', 's ', 'd ', 's ', 'd ', 's ', 'd ', 's ', 'o ',\n",
       "       's ', 'd ', 's ', 'h ', 's ', 's ', 'h ', 's ', 'd ', 's ', 's ',\n",
       "       'o ', 's ', 's ', 's ', 'd ', 'd ', 's ', 'h ', 's ', 'd ', 's ',\n",
       "       'o ', 'o ', 'o ', 's ', 'd ', 's ', 'd ', 'o ', 's ', 'd ', 'd ',\n",
       "       'o ', 's ', 'd ', 's ', 's ', 'o ', 'd ', 's ', 'd ', 's ', 'o ',\n",
       "       's ', 'd ', 's ', 'd ', 's ', 'd ', 's ', 's ', 's ', 's ', 'd ',\n",
       "       'o ', 'd ', 's ', 'd ', 's ', 'd ', 's ', 'h ', 'd ', 's ', 's ',\n",
       "       's ', 's ', 's ', 'o ', 'h ', 's ', 's ', 'd ', 's ', 's ', 'd ',\n",
       "       'd ', 'h ', 'h ', 's ', 'h ', 'd ', 's ', 's ', 'd ', 's ', 's ',\n",
       "       's ', 'd ', 'o ', 's ', 's ', 's ', 's ', 'o ', 's ', 'd ', 'd ',\n",
       "       'o ', 's ', 'd ', 'd ', 'h ', 'h ', 's ', 's ', 'o ', 's ', 'd ',\n",
       "       'd ', 'h ', 'h ', 'd ', 'h ', 's ', 's ', 's ', 'd ', 's ', 'd ',\n",
       "       'd ', 'h ', 'd ', 'o ', 'o ', 's ', 's ', 's ', 'h ', 'o ', 's ',\n",
       "       's ', 'd ', 's ', 'd ', 's ', 's ', 's ', 'o ', 'd ', 's ', 's ',\n",
       "       's ', 'h ', 'd ', 'o ', 'd ', 'h ', 'h ', 'o '], dtype=object)"
      ]
     },
     "execution_count": 32,
     "metadata": {},
     "output_type": "execute_result"
    }
   ],
   "source": [
    "y_knn_predict = knnmodel.predict(X_test)\n",
    "y_knn_predict"
   ]
  },
  {
   "cell_type": "markdown",
   "id": "903c4a78-ca06-4af6-8db2-a570f35d949e",
   "metadata": {},
   "source": [
    "### 1.8 Use the function classification report\n",
    "\n",
    "Compare the true values \"y_test\" with your predicted values \"y_knn_predict\" and determing the precision recall and f1-score on each of the classes \"d\", \"h\", \"o\", and \"s\" by printing the output of the classification_report function."
   ]
  },
  {
   "cell_type": "code",
   "execution_count": 45,
   "id": "2e915585-cc73-4927-a937-e9b53fcb9cf9",
   "metadata": {},
   "outputs": [
    {
     "data": {
      "text/plain": [
       "'              precision    recall  f1-score   support\\n\\n          d        0.88      0.92      0.90        48\\n          h        1.00      0.79      0.88        28\\n          o        0.96      0.79      0.86        28\\n          s        0.88      1.00      0.94        69\\n\\n    accuracy                           0.91       173\\n   macro avg       0.93      0.87      0.89       173\\nweighted avg       0.91      0.91      0.91       173\\n'"
      ]
     },
     "execution_count": 45,
     "metadata": {},
     "output_type": "execute_result"
    }
   ],
   "source": [
    "\n",
    "classification_report(y_test, y_knn_predict)"
   ]
  },
  {
   "cell_type": "markdown",
   "id": "5a521aa4-eba8-4c5f-833c-6f42e6d2fd9e",
   "metadata": {},
   "source": [
    "### 1.9  Fitting and creating a LogisticRegression model \n",
    "\n",
    "Use the LogisticRegression model in sklearn and create an instance of the model and store it in a variable called \"lrmodel\". When you create this model make sure you pass \"solver='liblinear'\" and \"max_iter=1000\" to the constructor that makes the LogisticRegression model or you will get some error messages. Then fit, as before, on the X_train and y_train data."
   ]
  },
  {
   "cell_type": "code",
   "execution_count": 55,
   "id": "0271a2f3-7f94-4b65-b8fe-f67095b3fe8c",
   "metadata": {},
   "outputs": [
    {
     "name": "stderr",
     "output_type": "stream",
     "text": [
      "/opt/conda/lib/python3.10/site-packages/sklearn/linear_model/_logistic.py:444: ConvergenceWarning: lbfgs failed to converge (status=1):\n",
      "STOP: TOTAL NO. of ITERATIONS REACHED LIMIT.\n",
      "\n",
      "Increase the number of iterations (max_iter) or scale the data as shown in:\n",
      "    https://scikit-learn.org/stable/modules/preprocessing.html\n",
      "Please also refer to the documentation for alternative solver options:\n",
      "    https://scikit-learn.org/stable/modules/linear_model.html#logistic-regression\n",
      "  n_iter_i = _check_optimize_result(\n"
     ]
    },
    {
     "data": {
      "text/html": [
       "<style>#sk-container-id-4 {color: black;background-color: white;}#sk-container-id-4 pre{padding: 0;}#sk-container-id-4 div.sk-toggleable {background-color: white;}#sk-container-id-4 label.sk-toggleable__label {cursor: pointer;display: block;width: 100%;margin-bottom: 0;padding: 0.3em;box-sizing: border-box;text-align: center;}#sk-container-id-4 label.sk-toggleable__label-arrow:before {content: \"▸\";float: left;margin-right: 0.25em;color: #696969;}#sk-container-id-4 label.sk-toggleable__label-arrow:hover:before {color: black;}#sk-container-id-4 div.sk-estimator:hover label.sk-toggleable__label-arrow:before {color: black;}#sk-container-id-4 div.sk-toggleable__content {max-height: 0;max-width: 0;overflow: hidden;text-align: left;background-color: #f0f8ff;}#sk-container-id-4 div.sk-toggleable__content pre {margin: 0.2em;color: black;border-radius: 0.25em;background-color: #f0f8ff;}#sk-container-id-4 input.sk-toggleable__control:checked~div.sk-toggleable__content {max-height: 200px;max-width: 100%;overflow: auto;}#sk-container-id-4 input.sk-toggleable__control:checked~label.sk-toggleable__label-arrow:before {content: \"▾\";}#sk-container-id-4 div.sk-estimator input.sk-toggleable__control:checked~label.sk-toggleable__label {background-color: #d4ebff;}#sk-container-id-4 div.sk-label input.sk-toggleable__control:checked~label.sk-toggleable__label {background-color: #d4ebff;}#sk-container-id-4 input.sk-hidden--visually {border: 0;clip: rect(1px 1px 1px 1px);clip: rect(1px, 1px, 1px, 1px);height: 1px;margin: -1px;overflow: hidden;padding: 0;position: absolute;width: 1px;}#sk-container-id-4 div.sk-estimator {font-family: monospace;background-color: #f0f8ff;border: 1px dotted black;border-radius: 0.25em;box-sizing: border-box;margin-bottom: 0.5em;}#sk-container-id-4 div.sk-estimator:hover {background-color: #d4ebff;}#sk-container-id-4 div.sk-parallel-item::after {content: \"\";width: 100%;border-bottom: 1px solid gray;flex-grow: 1;}#sk-container-id-4 div.sk-label:hover label.sk-toggleable__label {background-color: #d4ebff;}#sk-container-id-4 div.sk-serial::before {content: \"\";position: absolute;border-left: 1px solid gray;box-sizing: border-box;top: 0;bottom: 0;left: 50%;z-index: 0;}#sk-container-id-4 div.sk-serial {display: flex;flex-direction: column;align-items: center;background-color: white;padding-right: 0.2em;padding-left: 0.2em;position: relative;}#sk-container-id-4 div.sk-item {position: relative;z-index: 1;}#sk-container-id-4 div.sk-parallel {display: flex;align-items: stretch;justify-content: center;background-color: white;position: relative;}#sk-container-id-4 div.sk-item::before, #sk-container-id-4 div.sk-parallel-item::before {content: \"\";position: absolute;border-left: 1px solid gray;box-sizing: border-box;top: 0;bottom: 0;left: 50%;z-index: -1;}#sk-container-id-4 div.sk-parallel-item {display: flex;flex-direction: column;z-index: 1;position: relative;background-color: white;}#sk-container-id-4 div.sk-parallel-item:first-child::after {align-self: flex-end;width: 50%;}#sk-container-id-4 div.sk-parallel-item:last-child::after {align-self: flex-start;width: 50%;}#sk-container-id-4 div.sk-parallel-item:only-child::after {width: 0;}#sk-container-id-4 div.sk-dashed-wrapped {border: 1px dashed gray;margin: 0 0.4em 0.5em 0.4em;box-sizing: border-box;padding-bottom: 0.4em;background-color: white;}#sk-container-id-4 div.sk-label label {font-family: monospace;font-weight: bold;display: inline-block;line-height: 1.2em;}#sk-container-id-4 div.sk-label-container {text-align: center;}#sk-container-id-4 div.sk-container {/* jupyter's `normalize.less` sets `[hidden] { display: none; }` but bootstrap.min.css set `[hidden] { display: none !important; }` so we also need the `!important` here to be able to override the default hidden behavior on the sphinx rendered scikit-learn.org. See: https://github.com/scikit-learn/scikit-learn/issues/21755 */display: inline-block !important;position: relative;}#sk-container-id-4 div.sk-text-repr-fallback {display: none;}</style><div id=\"sk-container-id-4\" class=\"sk-top-container\"><div class=\"sk-text-repr-fallback\"><pre>LogisticRegression()</pre><b>In a Jupyter environment, please rerun this cell to show the HTML representation or trust the notebook. <br />On GitHub, the HTML representation is unable to render, please try loading this page with nbviewer.org.</b></div><div class=\"sk-container\" hidden><div class=\"sk-item\"><div class=\"sk-estimator sk-toggleable\"><input class=\"sk-toggleable__control sk-hidden--visually\" id=\"sk-estimator-id-4\" type=\"checkbox\" checked><label for=\"sk-estimator-id-4\" class=\"sk-toggleable__label sk-toggleable__label-arrow\">LogisticRegression</label><div class=\"sk-toggleable__content\"><pre>LogisticRegression()</pre></div></div></div></div></div>"
      ],
      "text/plain": [
       "LogisticRegression()"
      ]
     },
     "execution_count": 55,
     "metadata": {},
     "output_type": "execute_result"
    }
   ],
   "source": [
    "irmodel = LogisticRegression()\n",
    "irmodel.fit(X_train, y_train)\n",
    "\n"
   ]
  },
  {
   "cell_type": "markdown",
   "id": "0e2e6e41-0010-466d-82d7-3bf087ce2e76",
   "metadata": {},
   "source": [
    "### 1.10 Predict and then run the classification report\n",
    "\n",
    "Predict using the X_test data using the lrmodel and store the result in the variable \"lr_predict\".\n",
    "As above use the classification_report, to compare y_test and y_lr_predict"
   ]
  },
  {
   "cell_type": "code",
   "execution_count": null,
   "id": "ba2cde5e-25d9-4850-adaa-d50962607007",
   "metadata": {},
   "outputs": [],
   "source": [
    "pass\n",
    "pass"
   ]
  },
  {
   "cell_type": "markdown",
   "id": "c7b66acb-2022-407c-9fd6-ecd731af7706",
   "metadata": {},
   "source": [
    "### 1.11 Compare and Explain the results\n",
    "\n",
    "* Using accuracy which model performed better?\n",
    "* Looking at F1 score, which class in each model was the hardest and easiest to classify?\n",
    "* How consistant were the two models performance?"
   ]
  },
  {
   "cell_type": "markdown",
   "id": "6b891ed7-a9b3-46a5-8c27-23092daf18aa",
   "metadata": {},
   "source": [
    "Your discussion goes here:\n"
   ]
  },
  {
   "cell_type": "code",
   "execution_count": null,
   "id": "89d5f518-ed74-4ff9-a8cc-c95a4a3282eb",
   "metadata": {},
   "outputs": [],
   "source": [
    "### Do not write in this cell\n",
    "rubric=\"\"\"\n",
    "* 02pts code runs without error\n",
    "* 02pts Data loaded and viewed\n",
    "* 04pts Extract X and Y from data frame\n",
    "* 02pts Split into train and test sets with the right proportion and seed\n",
    "* 04pts Create KNN model and fit on test data\n",
    "* 02pts Predict using KNN model on test data\n",
    "* 02pts Produce classification report for KNN evaluating against true test data\n",
    "* 04pts Create a Logistic Regression model using the required solver and max_iterations, and fit on training data \n",
    "* 04pts Predict and produce a classification report\n",
    "* 04pts Explain the model comparison\n",
    "\"\"\"\n",
    "\n",
    "thing = sum([int(line[2:4]) for line in rubric.split('\\n') if line])\n",
    "print(thing)"
   ]
  },
  {
   "cell_type": "code",
   "execution_count": null,
   "id": "49f7b809-d18c-4028-8aee-a98ba6f84237",
   "metadata": {},
   "outputs": [],
   "source": []
  }
 ],
 "metadata": {
  "kernelspec": {
   "display_name": "Python 3 (ipykernel)",
   "language": "python",
   "name": "python3"
  },
  "language_info": {
   "codemirror_mode": {
    "name": "ipython",
    "version": 3
   },
   "file_extension": ".py",
   "mimetype": "text/x-python",
   "name": "python",
   "nbconvert_exporter": "python",
   "pygments_lexer": "ipython3",
   "version": "3.10.6"
  }
 },
 "nbformat": 4,
 "nbformat_minor": 5
}
